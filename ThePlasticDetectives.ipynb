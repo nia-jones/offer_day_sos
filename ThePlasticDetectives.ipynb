{
 "cells": [
  {
   "cell_type": "markdown",
   "id": "ec6e7497",
   "metadata": {},
   "source": [
    "# The Plastic Detectives "
   ]
  },
  {
   "cell_type": "markdown",
   "id": "61f5d740",
   "metadata": {},
   "source": [
    "![alt text](4251466594dddfb1f5cbe8d38644e98b.jpg \"Title\")"
   ]
  },
  {
   "cell_type": "markdown",
   "id": "e3d18e53",
   "metadata": {},
   "source": [
    "Welcome to Bangor University's School of Ocean Sciences! Today you'll be using your computer and your IT skills to think like a detective and solve an environmental crime... the dumping of plastic litter in the ocean! "
   ]
  },
  {
   "cell_type": "markdown",
   "id": "c00f562a",
   "metadata": {},
   "source": [
    "**The brief** \n",
    "\n",
    "A fisherman has reported seeing a high concentration of plastic litter just off the coast of Anglesey to the council. The council has asked you, as part of Bangor University, to use your computer models to see if you can help discover where the plastic originated, hopefully narrowing down the source of this pollution event! "
   ]
  },
  {
   "cell_type": "markdown",
   "id": "e7bce805",
   "metadata": {},
   "source": [
    "**Method** \n",
    "\n",
    "You'll be using 2 models here; an ocean model which recreates ocean currents and particle tracking model which can follow the plastic through time as it moves through the ocean. \n",
    "\n",
    "To 'run' each box below simply click on the box with your mouse and press 'Shift+Enter' on your keyboard. "
   ]
  },
  {
   "cell_type": "code",
   "execution_count": null,
   "id": "2ddd3833",
   "metadata": {},
   "outputs": [],
   "source": [
    "%matplotlib inline \n",
    "from parcels import FieldSet, ParticleSet, Variable, JITParticle, AdvectionRK4, plotTrajectoriesFile, AdvectionRK4_3D, Field, ScipyParticle\n",
    "import numpy as np \n",
    "import math \n",
    "from datetime import timedelta\n",
    "from datetime import timedelta as delta\n",
    "from operator import attrgetter \n",
    "import os \n",
    "from glob import glob\n",
    "from os import path\n",
    "import xarray as xr \n",
    "import matplotlib.pyplot as plt"
   ]
  },
  {
   "cell_type": "code",
   "execution_count": null,
   "id": "1beec966",
   "metadata": {},
   "outputs": [],
   "source": [
    "data_path = r'data' \n",
    "\n",
    "ufiles = sorted(glob(data_path+'/*_grid_U.nc'))\n",
    "vfiles = sorted(glob(data_path+'/*_grid_V.nc'))\n",
    "wfiles = sorted(glob(data_path+'/*_grid_W.nc'))\n",
    "mesh_mask = data_path + '\\coordinates.nc'\n",
    "\n",
    "filenames = {'U': {'lon': mesh_mask, 'lat': mesh_mask, 'data': ufiles},\n",
    "             'V': {'lon': mesh_mask, 'lat': mesh_mask, 'data': vfiles},\n",
    "             'W': {'lon': mesh_mask, 'lat': mesh_mask, 'data': wfiles}}\n",
    "\n",
    "variables = {'U': 'vozocrtx',\n",
    "             'V': 'vomecrty',\n",
    "             'W': 'vomecrtz'}\n",
    "\n",
    "dimensions = {'U': {'lon': 'glamf', 'lat': 'gphif', 'time': 'time_counter'},\n",
    "              'V': {'lon': 'glamf', 'lat': 'gphif', 'time': 'time_counter'},\n",
    "              'W': {'lon': 'glamf', 'lat': 'gphif', 'time': 'time_counter'}}\n",
    "\n",
    "fieldset = FieldSet.from_nemo(filenames, variables, dimensions,allow_time_extrapolation=True)"
   ]
  },
  {
   "cell_type": "markdown",
   "id": "faf62508",
   "metadata": {},
   "source": [
    "How many pieces of plastic have been found? (The larger the number the better chance of finding the source!)"
   ]
  },
  {
   "cell_type": "code",
   "execution_count": null,
   "id": "97634c62",
   "metadata": {},
   "outputs": [],
   "source": [
    "npart = 10 "
   ]
  },
  {
   "cell_type": "markdown",
   "id": "3a7e983c",
   "metadata": {},
   "source": [
    "The site of the pollution event can be changed by changing the longitude (lon) and latitude (lat)..."
   ]
  },
  {
   "cell_type": "code",
   "execution_count": null,
   "id": "6e79419e",
   "metadata": {},
   "outputs": [],
   "source": [
    "lon = -4 * np.ones(npart)\n",
    "lat = np.linspace(53.4, 53.41, npart, dtype=np.float32)"
   ]
  },
  {
   "cell_type": "code",
   "execution_count": null,
   "id": "550925e4",
   "metadata": {},
   "outputs": [],
   "source": [
    "pset = ParticleSet(fieldset=fieldset, pclass=JITParticle, lon=lon, lat=lat)\n",
    "pset.show()"
   ]
  },
  {
   "cell_type": "markdown",
   "id": "0ae9c36a",
   "metadata": {},
   "source": [
    "Now we can run the model back in time to try and narrow down the source location..."
   ]
  },
  {
   "cell_type": "code",
   "execution_count": null,
   "id": "45b3c1d7",
   "metadata": {},
   "outputs": [],
   "source": [
    "pset.execute(AdvectionRK4,\n",
    "             dt=-timedelta(minutes=5),      \n",
    "             runtime=timedelta(days=6))\n",
    "\n",
    "pset.show(domain={'N':53.6,'S':53,'E':-3.5,'W':-4.5}) "
   ]
  },
  {
   "cell_type": "code",
   "execution_count": null,
   "id": "64da672e",
   "metadata": {},
   "outputs": [],
   "source": []
  }
 ],
 "metadata": {
  "kernelspec": {
   "display_name": "Python 3 (ipykernel)",
   "language": "python",
   "name": "python3"
  },
  "language_info": {
   "codemirror_mode": {
    "name": "ipython",
    "version": 3
   },
   "file_extension": ".py",
   "mimetype": "text/x-python",
   "name": "python",
   "nbconvert_exporter": "python",
   "pygments_lexer": "ipython3",
   "version": "3.9.9"
  }
 },
 "nbformat": 4,
 "nbformat_minor": 5
}
